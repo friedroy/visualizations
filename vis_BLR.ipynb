{
 "cells": [
  {
   "cell_type": "code",
   "execution_count": 2,
   "metadata": {},
   "outputs": [],
   "source": [
    "%matplotlib widget\n",
    "from LinearRegression import (sigmoid_basis_functions,\n",
    "                              gaussian_basis_functions,\n",
    "                              polynomial_basis_functions,\n",
    "                              BayesianLinearRegression,\n",
    "                              LinearRegression)\n",
    "from matplotlib import pyplot as plt\n",
    "import ipywidgets as widgets\n",
    "import numpy as np"
   ]
  },
  {
   "cell_type": "code",
   "execution_count": 5,
   "metadata": {
    "pycharm": {
     "name": "#%%\n"
    }
   },
   "outputs": [
    {
     "data": {
      "application/vnd.jupyter.widget-view+json": {
       "model_id": "9522da7ce9da49baae201708d79a2f54",
       "version_major": 2,
       "version_minor": 0
      },
      "text/plain": [
       "Canvas(toolbar=Toolbar(toolitems=[('Home', 'Reset original view', 'home', 'home'), ('Back', 'Back to previous …"
      ]
     },
     "metadata": {},
     "output_type": "display_data"
    },
    {
     "data": {
      "application/vnd.jupyter.widget-view+json": {
       "model_id": "518232edfa274ba4838c6532557473d8",
       "version_major": 2,
       "version_minor": 0
      },
      "text/plain": [
       "interactive(children=(FloatSlider(value=0.1, description='nv', max=5.0, min=0.001), FloatSlider(value=1.0, des…"
      ]
     },
     "metadata": {},
     "output_type": "display_data"
    }
   ],
   "source": [
    "LIMS = [-25, 25]\n",
    "xx = np.linspace(LIMS[0], LIMS[1], 500)\n",
    "f = lambda x: 7*np.sin(x/5) + x\n",
    "COLOR = u'#1f77b4'\n",
    "\n",
    "plt.close('all')\n",
    "\n",
    "def fit(nv, pv, dof, BLR, basis, xs, ys):\n",
    "    if dof == 1: centers = np.array([])\n",
    "    else: centers = np.linspace(np.min(xs), np.max(xs), dof-1)\n",
    "    \n",
    "    if basis == 'Polynomial': basis_funcs = polynomial_basis_functions(degree=len(centers))\n",
    "    elif dof == 1: basis_funcs = polynomial_basis_functions(degree=0)\n",
    "    elif basis == 'Gaussian': basis_funcs = gaussian_basis_functions(centers, beta=2)\n",
    "    else: basis_funcs = sigmoid_basis_functions(centers)\n",
    "    \n",
    "    if BLR:\n",
    "        mean = np.zeros(dof)\n",
    "        cov = np.eye(dof)*pv\n",
    "        mdl = BayesianLinearRegression(theta_mean=mean, theta_cov=cov, sig=nv, basis_functions=basis_funcs)\n",
    "    else:\n",
    "        mdl = LinearRegression(basis_funcs)\n",
    "    mdl = mdl.fit(xs, ys)\n",
    "    preds = mdl.predict(xx)\n",
    "    conf_int = np.zeros(len(preds)) if not BLR else mdl.predict_std(xx)\n",
    "    return preds, conf_int\n",
    "\n",
    "fig, ax = plt.subplots(figsize=(6, 4))\n",
    "ax.set_ylim([LIMS[0], LIMS[1]])\n",
    "ax.set_xlim([LIMS[0], LIMS[1]])\n",
    "\n",
    "@widgets.interact(\n",
    "    nv=(0.001, 5, 0.1),\n",
    "    pv=(0.01, 10, 0.1),\n",
    "    dof=(1,10,1),\n",
    "    BLR=False,\n",
    "    basis=['Polynomial',\n",
    "           'Gaussian',\n",
    "           'Sigmoid'],\n",
    "    N=(1, 100, 1))\n",
    "\n",
    "def update(nv=0.1, pv=1, dof=1, BLR=False, basis='Polynomial', N=10):\n",
    "    plt.cla()\n",
    "    ax.set_ylim([LIMS[0], LIMS[1]])\n",
    "    ax.set_xlim([LIMS[0], LIMS[1]])\n",
    "    \n",
    "    np.random.seed(0)\n",
    "    xs = 40*np.random.rand(N) - 20\n",
    "    ys = f(xs) + np.sqrt(nv)*np.random.randn(N)\n",
    "    ax.scatter(xs, ys, 20, color=COLOR)\n",
    "\n",
    "    pred, CI = fit(nv, pv, dof, BLR, basis, xs, ys)\n",
    "    ax.plot(xx, pred, lw=2, color=COLOR)\n",
    "    ax.fill_between(x=xx, y1=pred-CI, y2=pred+CI, color=COLOR, alpha=.5)"
   ]
  }
 ],
 "metadata": {
  "kernelspec": {
   "display_name": "smartenv",
   "language": "python",
   "name": "smartenv"
  },
  "language_info": {
   "codemirror_mode": {
    "name": "ipython",
    "version": 3
   },
   "file_extension": ".py",
   "mimetype": "text/x-python",
   "name": "python",
   "nbconvert_exporter": "python",
   "pygments_lexer": "ipython3",
   "version": "3.7.5"
  }
 },
 "nbformat": 4,
 "nbformat_minor": 1
}