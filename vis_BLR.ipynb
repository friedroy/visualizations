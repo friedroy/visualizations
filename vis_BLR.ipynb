{
 "cells": [
  {
   "cell_type": "code",
   "execution_count": 3,
   "metadata": {
    "collapsed": true
   },
   "outputs": [],
   "source": [
    "%matplotlib widget\n",
    "from LinearRegression import (spline_basis_functions,\n",
    "                              sigmoid_basis_functions,\n",
    "                              gaussian_basis_functions,\n",
    "                              polynomial_basis_functions,\n",
    "                              BayesianLinearRegression,\n",
    "                              LinearRegression)\n",
    "from matplotlib import pyplot as plt\n",
    "import ipywidgets as widgets\n",
    "import numpy as np"
   ]
  },
  {
   "cell_type": "code",
   "execution_count": 4,
   "metadata": {
    "pycharm": {
     "name": "#%%\n"
    }
   },
   "outputs": [
    {
     "data": {
      "text/plain": "interactive(children=(FloatSlider(value=0.1, description='nv', max=5.0, min=0.01), FloatSlider(value=0.1, desc…",
      "application/vnd.jupyter.widget-view+json": {
       "version_major": 2,
       "version_minor": 0,
       "model_id": "b076d3fc8d8f49ac830b7a671306ffc1"
      }
     },
     "metadata": {},
     "output_type": "display_data"
    },
    {
     "data": {
      "text/plain": "Canvas(toolbar=Toolbar(toolitems=[('Home', 'Reset original view', 'home', 'home'), ('Back', 'Back to previous …",
      "text/html": "\n            <div style=\"display: inline-block;\">\n                <div class=\"jupyter-widgets widget-label\" style=\"text-align: center;\">\n                    Figure\n                </div>\n                <img src='data:image/png;base64,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' width=600.0/>\n            </div>\n        ",
      "application/vnd.jupyter.widget-view+json": {
       "version_major": 2,
       "version_minor": 0,
       "model_id": "dd2c3dd051314a859aac12113d8cca78"
      }
     },
     "metadata": {},
     "output_type": "display_data"
    }
   ],
   "source": [
    "xx = np.linspace(-1.5, 1.5, 1000)\n",
    "xs, ys = np.linspace(-1, 1, 5), np.sin(np.linspace(-1, 1, 5))\n",
    "\n",
    "def fit(nv, pv, dof, BLR, basis):\n",
    "    print(nv)\n",
    "    print(pv)\n",
    "    print(dof)\n",
    "    print(BLR)\n",
    "    print(basis)\n",
    "\n",
    "fig, ax = plt.subplots(figsize=(6, 4))\n",
    "ax.set_ylim([-1.5, 1.5])\n",
    "ax.set_xlim([-1.5, 1.5])\n",
    "ax.grid(True)\n",
    "\n",
    "@widgets.interact(nv=(0.01, 5, 0.1),\n",
    "    pv=(0.01, 5, 0.1),\n",
    "    dof=(1,10,1),\n",
    "    BLR=False,\n",
    "    basis=['Polynomial',\n",
    "           'Gaussian',\n",
    "           'Spline',\n",
    "           'Sigmoid'])\n",
    "def update(nv=0.1, pv=0.1, dof=1, BLR=False, basis='Polynomial'):\n",
    "    [l.remove() for l in ax.lines]\n",
    "    ax.scatter(xs, ys, 10)"
   ]
  }
 ],
 "metadata": {
  "kernelspec": {
   "name": "python3",
   "language": "python",
   "display_name": "Python 3 (ipykernel)"
  },
  "language_info": {
   "codemirror_mode": {
    "name": "ipython",
    "version": 3
   },
   "file_extension": ".py",
   "mimetype": "text/x-python",
   "name": "python",
   "nbconvert_exporter": "python",
   "pygments_lexer": "ipython3",
   "version": "3.7.5"
  }
 },
 "nbformat": 4,
 "nbformat_minor": 1
}